{
 "cells": [
  {
   "cell_type": "code",
   "execution_count": 8,
   "id": "49a3ec66",
   "metadata": {},
   "outputs": [],
   "source": [
    "from snowflake.snowpark.session import Session\n",
    "import snowflake.snowpark.functions as F\n",
    "import snowflake.snowpark.types as T\n",
    "\n",
    "import getpass, os\n",
    "import pandas as pd"
   ]
  },
  {
   "cell_type": "code",
   "execution_count": 9,
   "id": "b2bf0a5c",
   "metadata": {},
   "outputs": [],
   "source": [
    "# change wkdir\n",
    "os.chdir('C:\\\\Users\\\\ian\\\\sfguide-getting-started-machine-learning\\\\hol')"
   ]
  },
  {
   "cell_type": "code",
   "execution_count": 2,
   "id": "c1b734d8",
   "metadata": {},
   "outputs": [],
   "source": [
    "accountname = \"ZOICWDE-PYB23848\"\n",
    "username = \"Admin\"\n",
    "password = \"Lambda456\""
   ]
  },
  {
   "cell_type": "code",
   "execution_count": 3,
   "id": "48e90c23",
   "metadata": {},
   "outputs": [],
   "source": [
    "connection_parameters = {\n",
    "    \"account\": accountname,\n",
    "    \"user\": username,\n",
    "    \"password\": password,\n",
    "    \"role\": \"ACCOUNTADMIN\"\n",
    "}"
   ]
  },
  {
   "cell_type": "code",
   "execution_count": 4,
   "id": "99961e4e",
   "metadata": {},
   "outputs": [],
   "source": [
    "session = Session.builder.configs(connection_parameters).create()"
   ]
  },
  {
   "cell_type": "code",
   "execution_count": 5,
   "id": "7deb5db2",
   "metadata": {},
   "outputs": [
    {
     "data": {
      "text/plain": [
       "[Row(status='Warehouse HOL_WH successfully created.')]"
      ]
     },
     "execution_count": 5,
     "metadata": {},
     "output_type": "execute_result"
    }
   ],
   "source": [
    "# Create a Virtual Warehouse\n",
    "session.sql(\"CREATE OR REPLACE WAREHOUSE HOL_WH WITH WAREHOUSE_SIZE='X-SMALL'\").collect()"
   ]
  },
  {
   "cell_type": "code",
   "execution_count": 6,
   "id": "80dc317b",
   "metadata": {},
   "outputs": [
    {
     "data": {
      "text/plain": [
       "[Row(status='Database HOL_DB successfully created.')]"
      ]
     },
     "execution_count": 6,
     "metadata": {},
     "output_type": "execute_result"
    }
   ],
   "source": [
    "# Create Databse\n",
    "session.sql(\"CREATE OR REPLACE DATABASE HOL_DB\").collect()"
   ]
  },
  {
   "cell_type": "code",
   "execution_count": 10,
   "id": "f1fdddf9",
   "metadata": {},
   "outputs": [],
   "source": [
    "# Loading from local CSV-files\n",
    "application_record_df = pd.read_csv('data/application_record.csv.zip')\n",
    "credit_record_df = pd.read_csv('data/credit_record.csv.zip')"
   ]
  },
  {
   "cell_type": "code",
   "execution_count": 11,
   "id": "00edd7bd",
   "metadata": {},
   "outputs": [
    {
     "data": {
      "text/plain": [
       "<snowflake.snowpark.table.Table at 0x2d9bee28be0>"
      ]
     },
     "execution_count": 11,
     "metadata": {},
     "output_type": "execute_result"
    }
   ],
   "source": [
    "# Upload to Snowflake\n",
    "session.write_pandas(application_record_df, table_name='APPLICATION_RECORD', auto_create_table=True, overwrite=True)\n",
    "session.write_pandas(credit_record_df, table_name='CREDIT_RECORD', auto_create_table=True, overwrite=True)"
   ]
  },
  {
   "cell_type": "code",
   "execution_count": null,
   "id": "f3774042",
   "metadata": {},
   "outputs": [],
   "source": []
  }
 ],
 "metadata": {
  "kernelspec": {
   "display_name": "Python 3 (ipykernel)",
   "language": "python",
   "name": "python3"
  },
  "language_info": {
   "codemirror_mode": {
    "name": "ipython",
    "version": 3
   },
   "file_extension": ".py",
   "mimetype": "text/x-python",
   "name": "python",
   "nbconvert_exporter": "python",
   "pygments_lexer": "ipython3",
   "version": "3.8.16"
  }
 },
 "nbformat": 4,
 "nbformat_minor": 5
}
